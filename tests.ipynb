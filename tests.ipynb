{
 "cells": [
  {
   "cell_type": "code",
   "execution_count": 35,
   "metadata": {},
   "outputs": [
    {
     "name": "stdout",
     "output_type": "stream",
     "text": [
      "[[1 1 1 1 0 0 0 0 1 1 1 1 0 0 0 0 1 1 1 1 0 0 0 0 1 1 1 1 0 0 0 0]\n",
      " [1 1 1 1 0 0 0 0 1 1 1 1 0 0 0 0 1 1 1 1 0 0 0 0 1 1 1 1 0 0 0 0]\n",
      " [1 1 1 1 0 0 0 0 1 1 1 1 0 0 0 0 1 1 1 1 0 0 0 0 1 1 1 1 0 0 0 0]\n",
      " [1 1 1 1 0 0 0 0 1 1 1 1 0 0 0 0 1 1 1 1 0 0 0 0 1 1 1 1 0 0 0 0]\n",
      " [0 0 0 0 1 1 1 1 0 0 0 0 1 1 1 1 0 0 0 0 1 1 1 1 0 0 0 0 1 1 1 1]\n",
      " [0 0 0 0 1 1 1 1 0 0 0 0 1 1 1 1 0 0 0 0 1 1 1 1 0 0 0 0 1 1 1 1]\n",
      " [0 0 0 0 1 1 1 1 0 0 0 0 1 1 1 1 0 0 0 0 1 1 1 1 0 0 0 0 1 1 1 1]\n",
      " [0 0 0 0 1 1 1 1 0 0 0 0 1 1 1 1 0 0 0 0 1 1 1 1 0 0 0 0 1 1 1 1]\n",
      " [1 1 1 1 0 0 0 0 1 1 1 1 0 0 0 0 1 1 1 1 0 0 0 0 1 1 1 1 0 0 0 0]\n",
      " [1 1 1 1 0 0 0 0 1 1 1 1 0 0 0 0 1 1 1 1 0 0 0 0 1 1 1 1 0 0 0 0]\n",
      " [1 1 1 1 0 0 0 0 1 1 1 1 0 0 0 0 1 1 1 1 0 0 0 0 1 1 1 1 0 0 0 0]\n",
      " [1 1 1 1 0 0 0 0 1 1 1 1 0 0 0 0 1 1 1 1 0 0 0 0 1 1 1 1 0 0 0 0]\n",
      " [0 0 0 0 1 1 1 1 0 0 0 0 1 1 1 1 0 0 0 0 1 1 1 1 0 0 0 0 1 1 1 1]\n",
      " [0 0 0 0 1 1 1 1 0 0 0 0 1 1 1 1 0 0 0 0 1 1 1 1 0 0 0 0 1 1 1 1]\n",
      " [0 0 0 0 1 1 1 1 0 0 0 0 1 1 1 1 0 0 0 0 1 1 1 1 0 0 0 0 1 1 1 1]\n",
      " [0 0 0 0 1 1 1 1 0 0 0 0 1 1 1 1 0 0 0 0 1 1 1 1 0 0 0 0 1 1 1 1]\n",
      " [1 1 1 1 0 0 0 0 1 1 1 1 0 0 0 0 1 1 1 1 0 0 0 0 1 1 1 1 0 0 0 0]\n",
      " [1 1 1 1 0 0 0 0 1 1 1 1 0 0 0 0 1 1 1 1 0 0 0 0 1 1 1 1 0 0 0 0]\n",
      " [1 1 1 1 0 0 0 0 1 1 1 1 0 0 0 0 1 1 1 1 0 0 0 0 1 1 1 1 0 0 0 0]\n",
      " [1 1 1 1 0 0 0 0 1 1 1 1 0 0 0 0 1 1 1 1 0 0 0 0 1 1 1 1 0 0 0 0]\n",
      " [0 0 0 0 1 1 1 1 0 0 0 0 1 1 1 1 0 0 0 0 1 1 1 1 0 0 0 0 1 1 1 1]\n",
      " [0 0 0 0 1 1 1 1 0 0 0 0 1 1 1 1 0 0 0 0 1 1 1 1 0 0 0 0 1 1 1 1]\n",
      " [0 0 0 0 1 1 1 1 0 0 0 0 1 1 1 1 0 0 0 0 1 1 1 1 0 0 0 0 1 1 1 1]\n",
      " [0 0 0 0 1 1 1 1 0 0 0 0 1 1 1 1 0 0 0 0 1 1 1 1 0 0 0 0 1 1 1 1]]\n"
     ]
    }
   ],
   "source": [
    "import numpy as np\n",
    "\n",
    "\n",
    "def checkers_grid(shape, sq_size, odd_even=1):\n",
    "    if odd_even not in (0, 1):\n",
    "        raise ValueError('odd_even must be 0 or 1')\n",
    "    grid = np.zeros(shape, dtype=int)\n",
    "    ind = np.indices(grid.shape)\n",
    "    grid[(ind[0] // sq_size + ind[1] // sq_size) % 2 == odd_even] = 1\n",
    "    return grid\n",
    "\n",
    "print(checkers_grid((24, 32), 4, 0))"
   ]
  },
  {
   "cell_type": "code",
   "execution_count": 37,
   "metadata": {},
   "outputs": [
    {
     "name": "stdout",
     "output_type": "stream",
     "text": [
      "[[3.34314575 4.         4.52786405 4.87689437 5.         4.87689437\n",
      "  4.52786405 4.         3.34314575]\n",
      " [4.         4.75735931 5.39444872 5.83772234 6.         5.83772234\n",
      "  5.39444872 4.75735931 4.        ]\n",
      " [4.52786405 5.39444872 6.17157288 6.76393202 7.         6.76393202\n",
      "  6.17157288 5.39444872 4.52786405]\n",
      " [4.87689437 5.83772234 6.76393202 7.58578644 8.         7.58578644\n",
      "  6.76393202 5.83772234 4.87689437]\n",
      " [5.         6.         7.         8.         9.         8.\n",
      "  7.         6.         5.        ]\n",
      " [4.87689437 5.83772234 6.76393202 7.58578644 8.         7.58578644\n",
      "  6.76393202 5.83772234 4.87689437]\n",
      " [4.52786405 5.39444872 6.17157288 6.76393202 7.         6.76393202\n",
      "  6.17157288 5.39444872 4.52786405]\n",
      " [4.         4.75735931 5.39444872 5.83772234 6.         5.83772234\n",
      "  5.39444872 4.75735931 4.        ]\n",
      " [3.34314575 4.         4.52786405 4.87689437 5.         4.87689437\n",
      "  4.52786405 4.         3.34314575]]\n"
     ]
    }
   ],
   "source": [
    "def create_circular_array(size, max_value):\n",
    "    center = (size - 1) / 2\n",
    "    array = np.zeros((size, size))\n",
    "    for i in range(size):\n",
    "        for j in range(size):\n",
    "            distance = np.sqrt((i - center) ** 2 + (j - center) ** 2)\n",
    "            array[i, j] = max(0, max_value - distance)\n",
    "    return array\n",
    "\n",
    "circular_array = create_circular_array(9, 9)\n",
    "print(circular_array)"
   ]
  },
  {
   "cell_type": "code",
   "execution_count": null,
   "metadata": {},
   "outputs": [],
   "source": [
    "# Create a 2D array with a Gaussian function\n",
    "def create_gaussian_array(size, sigma):\n",
    "    center = (size - 0.5) / 2\n",
    "    array = np.zeros((size, size))\n",
    "    for i in range(size):\n",
    "        for j in range(size):\n",
    "            distance = (i - center) ** 2 + (j - center) ** 2\n",
    "            array[i, j] = np.exp(-distance / (2 * sigma ** 2))\n",
    "    return array"
   ]
  }
 ],
 "metadata": {
  "kernelspec": {
   "display_name": "Python 3",
   "language": "python",
   "name": "python3"
  },
  "language_info": {
   "codemirror_mode": {
    "name": "ipython",
    "version": 3
   },
   "file_extension": ".py",
   "mimetype": "text/x-python",
   "name": "python",
   "nbconvert_exporter": "python",
   "pygments_lexer": "ipython3",
   "version": "3.10.7"
  }
 },
 "nbformat": 4,
 "nbformat_minor": 2
}
